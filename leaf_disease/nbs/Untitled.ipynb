{
 "cells": [
  {
   "cell_type": "code",
   "execution_count": 2,
   "metadata": {
    "ExecuteTime": {
     "end_time": "2020-03-31T10:10:47.764966Z",
     "start_time": "2020-03-31T10:10:47.760084Z"
    }
   },
   "outputs": [],
   "source": [
    "from fastai import *"
   ]
  },
  {
   "cell_type": "code",
   "execution_count": 3,
   "metadata": {
    "ExecuteTime": {
     "end_time": "2020-03-31T10:10:51.969270Z",
     "start_time": "2020-03-31T10:10:51.959409Z"
    }
   },
   "outputs": [],
   "source": [
    "import fastai"
   ]
  },
  {
   "cell_type": "code",
   "execution_count": 4,
   "metadata": {
    "ExecuteTime": {
     "end_time": "2020-03-31T10:11:04.703909Z",
     "start_time": "2020-03-31T10:11:04.686718Z"
    }
   },
   "outputs": [
    {
     "name": "stdout",
     "output_type": "stream",
     "text": [
      "Help on package fastai:\n",
      "\n",
      "NAME\n",
      "    fastai\n",
      "\n",
      "PACKAGE CONTENTS\n",
      "    basic_data\n",
      "    basic_train\n",
      "    basics\n",
      "    callback\n",
      "    callbacks (package)\n",
      "    collab\n",
      "    core\n",
      "    data_block\n",
      "    datasets\n",
      "    distributed\n",
      "    gen_doc (package)\n",
      "    general_optimizer\n",
      "    imports (package)\n",
      "    launch\n",
      "    layers\n",
      "    metrics\n",
      "    script\n",
      "    sixel\n",
      "    tabular (package)\n",
      "    text (package)\n",
      "    torch_core\n",
      "    train\n",
      "    utils (package)\n",
      "    version\n",
      "    vision (package)\n",
      "    widgets (package)\n",
      "\n",
      "VERSION\n",
      "    1.0.60\n",
      "\n",
      "FILE\n",
      "    /opt/conda/lib/python3.7/site-packages/fastai/__init__.py\n",
      "\n",
      "\n"
     ]
    }
   ],
   "source": [
    "help(fastai)"
   ]
  },
  {
   "cell_type": "code",
   "execution_count": 14,
   "metadata": {
    "ExecuteTime": {
     "end_time": "2020-03-31T10:16:22.974151Z",
     "start_time": "2020-03-31T10:16:22.965524Z"
    }
   },
   "outputs": [],
   "source": [
    "from fastai import torch_core"
   ]
  },
  {
   "cell_type": "code",
   "execution_count": 16,
   "metadata": {
    "ExecuteTime": {
     "end_time": "2020-03-31T10:17:06.449367Z",
     "start_time": "2020-03-31T10:17:06.443258Z"
    }
   },
   "outputs": [
    {
     "data": {
      "text/plain": [
       "namespace(cmap='viridis', cpus=4, device=device(type='cuda'), extra_callback_fns=None, extra_callbacks=None, lr=slice(None, 0.003, None), return_fig=False, silent=False, text_post_rules=[<function replace_all_caps at 0x7f7ff85ca9e0>, <function deal_caps at 0x7f7ff85caa70>], text_pre_rules=[<function fix_html at 0x7f7ff85ca950>, <function replace_rep at 0x7f7ff85ca830>, <function replace_wrep at 0x7f7ff85ca8c0>, <function spec_add_spaces at 0x7f80020a67a0>, <function rm_useless_spaces at 0x7f7ff85ca7a0>], text_spec_tok=['xxunk', 'xxpad', 'xxbos', 'xxeos', 'xxfld', 'xxmaj', 'xxup', 'xxrep', 'xxwrep'], wd=0.01)"
      ]
     },
     "execution_count": 16,
     "metadata": {},
     "output_type": "execute_result"
    }
   ],
   "source": [
    "torch_core."
   ]
  },
  {
   "cell_type": "code",
   "execution_count": 9,
   "metadata": {
    "ExecuteTime": {
     "end_time": "2020-03-31T10:13:51.305202Z",
     "start_time": "2020-03-31T10:13:51.240582Z"
    }
   },
   "outputs": [
    {
     "name": "stdout",
     "output_type": "stream",
     "text": [
      "Help on module fastai.distributed in fastai:\n",
      "\n",
      "NAME\n",
      "    fastai.distributed\n",
      "\n",
      "CLASSES\n",
      "    fastai.basic_train.LearnerCallback(fastai.callback.Callback)\n",
      "        DistributedRecorder\n",
      "        DistributedTrainer\n",
      "    \n",
      "    class DistributedRecorder(fastai.basic_train.LearnerCallback)\n",
      "     |  DistributedRecorder(learn: fastai.basic_train.Learner, cuda_id: int = 0, cache_dir: Union[pathlib.Path, str] = 'tmp')\n",
      "     |  \n",
      "     |  Base class for creating callbacks for a `Learner`.\n",
      "     |  \n",
      "     |  Method resolution order:\n",
      "     |      DistributedRecorder\n",
      "     |      fastai.basic_train.LearnerCallback\n",
      "     |      fastai.callback.Callback\n",
      "     |      builtins.object\n",
      "     |  \n",
      "     |  Methods defined here:\n",
      "     |  \n",
      "     |  __init__(self, learn: fastai.basic_train.Learner, cuda_id: int = 0, cache_dir: Union[pathlib.Path, str] = 'tmp')\n",
      "     |      Initialize self.  See help(type(self)) for accurate signature.\n",
      "     |  \n",
      "     |  on_epoch_end(self, **kwargs)\n",
      "     |      Called at the end of an epoch.\n",
      "     |  \n",
      "     |  on_train_begin(self, **kwargs)\n",
      "     |      To initialize constants in the callback.\n",
      "     |  \n",
      "     |  on_train_end(self, **kwargs)\n",
      "     |      Useful for cleaning up things and saving files/models.\n",
      "     |  \n",
      "     |  save_stats(self)\n",
      "     |  \n",
      "     |  ----------------------------------------------------------------------\n",
      "     |  Methods inherited from fastai.basic_train.LearnerCallback:\n",
      "     |  \n",
      "     |  __getattr__(self, k)\n",
      "     |  \n",
      "     |  __setstate__(self, data: Any)\n",
      "     |  \n",
      "     |  ----------------------------------------------------------------------\n",
      "     |  Data descriptors inherited from fastai.basic_train.LearnerCallback:\n",
      "     |  \n",
      "     |  cb_name\n",
      "     |  \n",
      "     |  learn\n",
      "     |  \n",
      "     |  ----------------------------------------------------------------------\n",
      "     |  Methods inherited from fastai.callback.Callback:\n",
      "     |  \n",
      "     |  __repr__(self)\n",
      "     |      Return repr(self).\n",
      "     |  \n",
      "     |  get_state(self, minimal: bool = True)\n",
      "     |      Return the inner state of the `Callback`, `minimal` or not.\n",
      "     |  \n",
      "     |  jump_to_epoch(self, epoch) -> None\n",
      "     |      To resume training at `epoch` directly.\n",
      "     |  \n",
      "     |  on_backward_begin(self, **kwargs: Any) -> None\n",
      "     |      Called after the forward pass and the loss has been computed, but before backprop.\n",
      "     |  \n",
      "     |  on_backward_end(self, **kwargs: Any) -> None\n",
      "     |      Called after backprop but before optimizer step. Useful for true weight decay in AdamW.\n",
      "     |  \n",
      "     |  on_batch_begin(self, **kwargs: Any) -> None\n",
      "     |      Set HP before the output and loss are computed.\n",
      "     |  \n",
      "     |  on_batch_end(self, **kwargs: Any) -> None\n",
      "     |      Called at the end of the batch.\n",
      "     |  \n",
      "     |  on_epoch_begin(self, **kwargs: Any) -> None\n",
      "     |      At the beginning of each epoch.\n",
      "     |  \n",
      "     |  on_loss_begin(self, **kwargs: Any) -> None\n",
      "     |      Called after forward pass but before loss has been computed.\n",
      "     |  \n",
      "     |  on_step_end(self, **kwargs: Any) -> None\n",
      "     |      Called after the step of the optimizer but before the gradients are zeroed.\n",
      "     |  \n",
      "     |  ----------------------------------------------------------------------\n",
      "     |  Data descriptors inherited from fastai.callback.Callback:\n",
      "     |  \n",
      "     |  __dict__\n",
      "     |      dictionary for instance variables (if defined)\n",
      "     |  \n",
      "     |  __weakref__\n",
      "     |      list of weak references to the object (if defined)\n",
      "    \n",
      "    class DistributedTrainer(fastai.basic_train.LearnerCallback)\n",
      "     |  DistributedTrainer(learn: fastai.basic_train.Learner, cuda_id: int = 0)\n",
      "     |  \n",
      "     |  Base class for creating callbacks for a `Learner`.\n",
      "     |  \n",
      "     |  Method resolution order:\n",
      "     |      DistributedTrainer\n",
      "     |      fastai.basic_train.LearnerCallback\n",
      "     |      fastai.callback.Callback\n",
      "     |      builtins.object\n",
      "     |  \n",
      "     |  Methods defined here:\n",
      "     |  \n",
      "     |  __init__(self, learn: fastai.basic_train.Learner, cuda_id: int = 0)\n",
      "     |      Initialize self.  See help(type(self)) for accurate signature.\n",
      "     |  \n",
      "     |  on_epoch_begin(self, epoch, **kwargs)\n",
      "     |      At the beginning of each epoch.\n",
      "     |  \n",
      "     |  on_train_begin(self, **kwargs)\n",
      "     |      To initialize constants in the callback.\n",
      "     |  \n",
      "     |  on_train_end(self, **kwargs)\n",
      "     |      Useful for cleaning up things and saving files/models.\n",
      "     |  \n",
      "     |  ----------------------------------------------------------------------\n",
      "     |  Methods inherited from fastai.basic_train.LearnerCallback:\n",
      "     |  \n",
      "     |  __getattr__(self, k)\n",
      "     |  \n",
      "     |  __setstate__(self, data: Any)\n",
      "     |  \n",
      "     |  ----------------------------------------------------------------------\n",
      "     |  Data descriptors inherited from fastai.basic_train.LearnerCallback:\n",
      "     |  \n",
      "     |  cb_name\n",
      "     |  \n",
      "     |  learn\n",
      "     |  \n",
      "     |  ----------------------------------------------------------------------\n",
      "     |  Methods inherited from fastai.callback.Callback:\n",
      "     |  \n",
      "     |  __repr__(self)\n",
      "     |      Return repr(self).\n",
      "     |  \n",
      "     |  get_state(self, minimal: bool = True)\n",
      "     |      Return the inner state of the `Callback`, `minimal` or not.\n",
      "     |  \n",
      "     |  jump_to_epoch(self, epoch) -> None\n",
      "     |      To resume training at `epoch` directly.\n",
      "     |  \n",
      "     |  on_backward_begin(self, **kwargs: Any) -> None\n",
      "     |      Called after the forward pass and the loss has been computed, but before backprop.\n",
      "     |  \n",
      "     |  on_backward_end(self, **kwargs: Any) -> None\n",
      "     |      Called after backprop but before optimizer step. Useful for true weight decay in AdamW.\n",
      "     |  \n",
      "     |  on_batch_begin(self, **kwargs: Any) -> None\n",
      "     |      Set HP before the output and loss are computed.\n",
      "     |  \n",
      "     |  on_batch_end(self, **kwargs: Any) -> None\n",
      "     |      Called at the end of the batch.\n",
      "     |  \n",
      "     |  on_epoch_end(self, **kwargs: Any) -> None\n",
      "     |      Called at the end of an epoch.\n",
      "     |  \n",
      "     |  on_loss_begin(self, **kwargs: Any) -> None\n",
      "     |      Called after forward pass but before loss has been computed.\n",
      "     |  \n",
      "     |  on_step_end(self, **kwargs: Any) -> None\n",
      "     |      Called after the step of the optimizer but before the gradients are zeroed.\n",
      "     |  \n",
      "     |  ----------------------------------------------------------------------\n",
      "     |  Data descriptors inherited from fastai.callback.Callback:\n",
      "     |  \n",
      "     |  __dict__\n",
      "     |      dictionary for instance variables (if defined)\n",
      "     |  \n",
      "     |  __weakref__\n",
      "     |      list of weak references to the object (if defined)\n",
      "\n",
      "FUNCTIONS\n",
      "    read_metrics(cache_path: Union[pathlib.Path, str], n_gpus: int, reduce: bool = True)\n",
      "    \n",
      "    setup_distrib(gpu: Any = None)\n",
      "\n",
      "DATA\n",
      "    __all__ = ['DistributedRecorder', 'DistributedTrainer', 'read_metrics'...\n",
      "\n",
      "FILE\n",
      "    /opt/conda/lib/python3.7/site-packages/fastai/distributed.py\n",
      "\n",
      "\n"
     ]
    }
   ],
   "source": [
    "help(distributed)"
   ]
  },
  {
   "cell_type": "code",
   "execution_count": 13,
   "metadata": {
    "ExecuteTime": {
     "end_time": "2020-03-31T10:14:56.891143Z",
     "start_time": "2020-03-31T10:14:56.837211Z"
    }
   },
   "outputs": [
    {
     "ename": "TypeError",
     "evalue": "unsupported operand type(s) for /: 'str' and 'str'",
     "output_type": "error",
     "traceback": [
      "\u001b[0;31m---------------------------------------------------------------------------\u001b[0m",
      "\u001b[0;31mTypeError\u001b[0m                                 Traceback (most recent call last)",
      "\u001b[0;32m<ipython-input-13-940425db2117>\u001b[0m in \u001b[0;36m<module>\u001b[0;34m\u001b[0m\n\u001b[0;32m----> 1\u001b[0;31m \u001b[0mdistributed\u001b[0m\u001b[0;34m.\u001b[0m\u001b[0mread_metrics\u001b[0m\u001b[0;34m(\u001b[0m\u001b[0;34m\".\"\u001b[0m\u001b[0;34m,\u001b[0m\u001b[0;36m1\u001b[0m\u001b[0;34m)\u001b[0m\u001b[0;34m\u001b[0m\u001b[0;34m\u001b[0m\u001b[0m\n\u001b[0m",
      "\u001b[0;32m/opt/conda/lib/python3.7/site-packages/fastai/distributed.py\u001b[0m in \u001b[0;36mread_metrics\u001b[0;34m(cache_path, n_gpus, reduce)\u001b[0m\n\u001b[1;32m     81\u001b[0m     \u001b[0mlosses\u001b[0m\u001b[0;34m,\u001b[0m\u001b[0mmetrics\u001b[0m \u001b[0;34m=\u001b[0m \u001b[0;34m[\u001b[0m\u001b[0;34m]\u001b[0m\u001b[0;34m,\u001b[0m\u001b[0;34m[\u001b[0m\u001b[0;34m]\u001b[0m\u001b[0;34m\u001b[0m\u001b[0;34m\u001b[0m\u001b[0m\n\u001b[1;32m     82\u001b[0m     \u001b[0;32mfor\u001b[0m \u001b[0mi\u001b[0m \u001b[0;32min\u001b[0m \u001b[0mrange\u001b[0m\u001b[0;34m(\u001b[0m\u001b[0mn_gpus\u001b[0m\u001b[0;34m)\u001b[0m\u001b[0;34m:\u001b[0m\u001b[0;34m\u001b[0m\u001b[0;34m\u001b[0m\u001b[0m\n\u001b[0;32m---> 83\u001b[0;31m         \u001b[0mlosses\u001b[0m\u001b[0;34m.\u001b[0m\u001b[0mappend\u001b[0m\u001b[0;34m(\u001b[0m\u001b[0mnp\u001b[0m\u001b[0;34m.\u001b[0m\u001b[0mload\u001b[0m\u001b[0;34m(\u001b[0m\u001b[0mcache_path\u001b[0m\u001b[0;34m/\u001b[0m\u001b[0;34mf'losses_{i}.npy'\u001b[0m\u001b[0;34m)\u001b[0m\u001b[0;34m[\u001b[0m\u001b[0;32mNone\u001b[0m\u001b[0;34m]\u001b[0m\u001b[0;34m)\u001b[0m\u001b[0;34m\u001b[0m\u001b[0;34m\u001b[0m\u001b[0m\n\u001b[0m\u001b[1;32m     84\u001b[0m         \u001b[0mmetrics\u001b[0m\u001b[0;34m.\u001b[0m\u001b[0mappend\u001b[0m\u001b[0;34m(\u001b[0m\u001b[0mnp\u001b[0m\u001b[0;34m.\u001b[0m\u001b[0mload\u001b[0m\u001b[0;34m(\u001b[0m\u001b[0mcache_path\u001b[0m\u001b[0;34m/\u001b[0m\u001b[0;34mf'metrics_{i}.npy'\u001b[0m\u001b[0;34m)\u001b[0m\u001b[0;34m[\u001b[0m\u001b[0;32mNone\u001b[0m\u001b[0;34m]\u001b[0m\u001b[0;34m)\u001b[0m\u001b[0;34m\u001b[0m\u001b[0;34m\u001b[0m\u001b[0m\n\u001b[1;32m     85\u001b[0m     \u001b[0;32mif\u001b[0m \u001b[0mreduce\u001b[0m\u001b[0;34m:\u001b[0m\u001b[0;34m\u001b[0m\u001b[0;34m\u001b[0m\u001b[0m\n",
      "\u001b[0;31mTypeError\u001b[0m: unsupported operand type(s) for /: 'str' and 'str'"
     ]
    }
   ],
   "source": [
    "distributed.read_metrics(\".\",1)"
   ]
  },
  {
   "cell_type": "code",
   "execution_count": null,
   "metadata": {},
   "outputs": [],
   "source": []
  }
 ],
 "metadata": {
  "kernelspec": {
   "display_name": "Python 3",
   "language": "python",
   "name": "python3"
  },
  "language_info": {
   "codemirror_mode": {
    "name": "ipython",
    "version": 3
   },
   "file_extension": ".py",
   "mimetype": "text/x-python",
   "name": "python",
   "nbconvert_exporter": "python",
   "pygments_lexer": "ipython3",
   "version": "3.7.6"
  },
  "toc": {
   "base_numbering": 1,
   "nav_menu": {},
   "number_sections": true,
   "sideBar": true,
   "skip_h1_title": false,
   "title_cell": "Table of Contents",
   "title_sidebar": "Contents",
   "toc_cell": false,
   "toc_position": {},
   "toc_section_display": true,
   "toc_window_display": false
  },
  "varInspector": {
   "cols": {
    "lenName": 16,
    "lenType": 16,
    "lenVar": 40
   },
   "kernels_config": {
    "python": {
     "delete_cmd_postfix": "",
     "delete_cmd_prefix": "del ",
     "library": "var_list.py",
     "varRefreshCmd": "print(var_dic_list())"
    },
    "r": {
     "delete_cmd_postfix": ") ",
     "delete_cmd_prefix": "rm(",
     "library": "var_list.r",
     "varRefreshCmd": "cat(var_dic_list()) "
    }
   },
   "types_to_exclude": [
    "module",
    "function",
    "builtin_function_or_method",
    "instance",
    "_Feature"
   ],
   "window_display": false
  }
 },
 "nbformat": 4,
 "nbformat_minor": 4
}
