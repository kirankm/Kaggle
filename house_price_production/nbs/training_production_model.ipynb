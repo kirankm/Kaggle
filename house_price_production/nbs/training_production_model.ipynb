{
 "cells": [
  {
   "cell_type": "markdown",
   "metadata": {},
   "source": [
    "# Import Libraries"
   ]
  },
  {
   "cell_type": "code",
   "execution_count": 75,
   "metadata": {
    "ExecuteTime": {
     "end_time": "2020-06-23T13:11:33.592242Z",
     "start_time": "2020-06-23T13:11:33.042870Z"
    }
   },
   "outputs": [
    {
     "name": "stdout",
     "output_type": "stream",
     "text": [
      "The autoreload extension is already loaded. To reload it, use:\n",
      "  %reload_ext autoreload\n"
     ]
    }
   ],
   "source": [
    "import pandas as pd\n",
    "import numpy as np\n",
    "import pathlib\n",
    "import sklearn\n",
    "from xgboost import XGBRegressor\n",
    "import os\n",
    "\n",
    "from typing import Union\n",
    "from model import *\n",
    "from model.config import config\n",
    "from sklearn.model_selection import train_test_split\n",
    "from model.processing import preprocessors as pp\n",
    "\n",
    "from sklearn.pipeline import Pipeline\n",
    "%load_ext autoreload\n",
    "%autoreload 2"
   ]
  },
  {
   "cell_type": "markdown",
   "metadata": {},
   "source": [
    "# Define Variables"
   ]
  },
  {
   "cell_type": "code",
   "execution_count": 13,
   "metadata": {
    "ExecuteTime": {
     "end_time": "2020-06-23T12:12:56.284948Z",
     "start_time": "2020-06-23T12:12:56.269658Z"
    }
   },
   "outputs": [],
   "source": [
    "PATH = '/mnt/data/study_path/kaggle/house_price_production/model/'\n",
    "SOURCE_PATH = pathlib.Path(PATH)\n",
    "DATASET_PATH = SOURCE_PATH / \"datasets\"\n",
    "TRAINED_MODEL_PATH = SOURCE_PATH / \"trained_models\"\n",
    "\n",
    "TRAIN_FILE = \"train.csv\"\n",
    "TEST_FILE = \"test.csv\"\n",
    "TARGET = \"SalePrice\""
   ]
  },
  {
   "cell_type": "markdown",
   "metadata": {},
   "source": [
    "# Data Management Functions"
   ]
  },
  {
   "cell_type": "code",
   "execution_count": 17,
   "metadata": {
    "ExecuteTime": {
     "end_time": "2020-06-23T12:14:31.165610Z",
     "start_time": "2020-06-23T12:14:31.152540Z"
    }
   },
   "outputs": [],
   "source": [
    "def load_dataset(*, file_name: str) -> pd.DataFrame:\n",
    "    return pd.read_csv(f'{config.DATASET_PATH/file_name}')"
   ]
  },
  {
   "cell_type": "markdown",
   "metadata": {},
   "source": [
    "# Processor Functions"
   ]
  },
  {
   "cell_type": "markdown",
   "metadata": {},
   "source": [
    "## PreProcessor"
   ]
  },
  {
   "cell_type": "code",
   "execution_count": 63,
   "metadata": {
    "ExecuteTime": {
     "end_time": "2020-06-23T13:05:12.943592Z",
     "start_time": "2020-06-23T13:05:12.897619Z"
    }
   },
   "outputs": [],
   "source": [
    "from sklearn.base import BaseEstimator, TransformerMixin\n",
    "import pandas as pd\n",
    "\n",
    "class LabelEncodeCatVar(BaseEstimator, TransformerMixin):\n",
    "    '''\n",
    "    Label encode categorical variables\n",
    "    '''\n",
    "    def __init__(self, variables:Union[list,str] = None, cat_dict:dict = {}) -> None:\n",
    "        self.cat_dict = cat_dict\n",
    "        if not isinstance(variables, list):\n",
    "            self.variables = [variables]\n",
    "        else:\n",
    "            self.variables = variables\n",
    "    \n",
    "    def fit(self, X:pd.DataFrame) -> \"LabelEncodeCatVar\":\n",
    "        for variable in self.variables:\n",
    "            if variable not in self.cat_dict:\n",
    "                cat_var = X[variable].astype(\"category\").cat.as_ordered()\n",
    "                self.cat_dict[variable] = cat_var.cat.categories\n",
    "        return self\n",
    "    \n",
    "    def transform(self, X:pd.DataFrame) -> pd.DataFrame:\n",
    "        X = X.copy()\n",
    "        for variable in self.variables:\n",
    "            cat_var = X[variable].astype(\"category\").cat.as_ordered()\n",
    "            X[variable] = cat_var.cat.set_categories(self.cat_dict[variable], ordered = True)\n",
    "        return X\n",
    "\n",
    "class Numericalize(BaseEstimator, TransformerMixin):\n",
    "    '''\n",
    "    convert categorical variables to their numerical codes\n",
    "    '''\n",
    "    def __init__(self, variables:Union[str, list] = None) -> None:\n",
    "        if not isinstance(variables, list):\n",
    "            self.variables = [variables]\n",
    "        else:\n",
    "            self.variables = variables\n",
    "    \n",
    "    def fit(self, X:pd.DataFrame) -> \"Numericalize\":\n",
    "        return self\n",
    "    \n",
    "    def transform(self, X:pd.DataFrame) -> pd.DataFrame:\n",
    "        X = X.copy()\n",
    "        for variable in self.variables:\n",
    "            X[variable]  = X[variable].cat.codes + 1\n",
    "        return X\n",
    "    \n",
    "class CategoricalImputer(BaseEstimator, TransformerMixin):\n",
    "    \"\"\"Categorical data missing value imputer.\"\"\"\n",
    "\n",
    "    def __init__(self, variables=None) -> None:\n",
    "        if not isinstance(variables, list):\n",
    "            self.variables = [variables]\n",
    "        else:\n",
    "            self.variables = variables\n",
    "\n",
    "    def fit(self, X: pd.DataFrame, y: pd.Series = None) -> \"CategoricalImputer\":\n",
    "        \"\"\"Fit statement to accomodate the sklearn pipeline.\"\"\"\n",
    "\n",
    "        return self\n",
    "\n",
    "    def transform(self, X: pd.DataFrame) -> pd.DataFrame:\n",
    "        \"\"\"Apply the transforms to the dataframe.\"\"\"\n",
    "\n",
    "        X = X.copy()\n",
    "        for feature in self.variables:\n",
    "            X[feature] = X[feature].fillna(\"Missing\")\n",
    "\n",
    "        return X\n",
    "\n",
    "\n",
    "class NumericalImputer(BaseEstimator, TransformerMixin):\n",
    "    \"\"\"Numerical missing value imputer.\"\"\"\n",
    "\n",
    "    def __init__(self, variables=None):\n",
    "        if not isinstance(variables, list):\n",
    "            self.variables = [variables]\n",
    "        else:\n",
    "            self.variables = variables\n",
    "\n",
    "    def fit(self, X, y=None):\n",
    "        # persist mode in a dictionary\n",
    "        self.imputer_dict_ = {}\n",
    "        for feature in self.variables:\n",
    "            self.imputer_dict_[feature] = X[feature].mode()[0]\n",
    "        return self\n",
    "\n",
    "    def transform(self, X):\n",
    "        X = X.copy()\n",
    "        for feature in self.variables:\n",
    "            X[feature].fillna(self.imputer_dict_[feature], inplace=True)\n",
    "        return X\n",
    "\n",
    "class RareLabelCategoricalEncoder(BaseEstimator, TransformerMixin):\n",
    "    \"\"\"Rare label categorical encoder\"\"\"\n",
    "\n",
    "    def __init__(self, tol=0.05, variables=None):\n",
    "        self.tol = tol\n",
    "        if not isinstance(variables, list):\n",
    "            self.variables = [variables]\n",
    "        else:\n",
    "            self.variables = variables\n",
    "\n",
    "    def fit(self, X, y=None):\n",
    "        # persist frequent labels in dictionary\n",
    "        self.encoder_dict_ = {}\n",
    "\n",
    "        for var in self.variables:\n",
    "            # the encoder will learn the most frequent categories\n",
    "            t = pd.Series(X[var].value_counts() / np.float(len(X)))\n",
    "            # frequent labels:\n",
    "            self.encoder_dict_[var] = list(t[t >= self.tol].index)\n",
    "\n",
    "        return self\n",
    "\n",
    "    def transform(self, X):\n",
    "        X = X.copy()\n",
    "        for feature in self.variables:\n",
    "            X[feature] = np.where(\n",
    "                X[feature].isin(self.encoder_dict_[feature]), X[feature], \"Rare\"\n",
    "            )\n",
    "\n",
    "        return X\n",
    "    \n",
    "class DropUnecessaryFeatures(BaseEstimator, TransformerMixin):\n",
    "    def __init__(self, variables_to_drop=None):\n",
    "        self.variables = variables_to_drop\n",
    "\n",
    "    def fit(self, X, y=None):\n",
    "        return self\n",
    "\n",
    "    def transform(self, X):\n",
    "        # encode labels\n",
    "        X = X.copy()\n",
    "        X = X.drop(self.variables, axis=1)\n",
    "\n",
    "        return X"
   ]
  },
  {
   "cell_type": "markdown",
   "metadata": {},
   "source": [
    "## Feature Transformer"
   ]
  },
  {
   "cell_type": "code",
   "execution_count": null,
   "metadata": {},
   "outputs": [],
   "source": [
    "class LogTransformer(BaseEstimator, TransformerMixin):\n",
    "    \"\"\"Logarithm transformer.\"\"\"\n",
    "\n",
    "    def __init__(self, variables=None):\n",
    "        if not isinstance(variables, list):\n",
    "            self.variables = [variables]\n",
    "        else:\n",
    "            self.variables = variables\n",
    "\n",
    "    def fit(self, X, y=None):\n",
    "        # to accomodate the pipeline\n",
    "        return self\n",
    "\n",
    "    def transform(self, X):\n",
    "        X = X.copy()\n",
    "\n",
    "        # check that the values are non-negative for log transform\n",
    "        if not (X[self.variables] > 0).all().all():\n",
    "            vars_ = self.variables[(X[self.variables] <= 0).any()]\n",
    "            raise InvalidModelInputError(\n",
    "                f\"Variables contain zero or negative values, \"\n",
    "                f\"can't apply log for vars: {vars_}\"\n",
    "            )\n",
    "\n",
    "        for feature in self.variables:\n",
    "            X[feature] = np.log(X[feature])\n",
    "\n",
    "        return X"
   ]
  },
  {
   "cell_type": "code",
   "execution_count": null,
   "metadata": {},
   "outputs": [],
   "source": []
  },
  {
   "cell_type": "markdown",
   "metadata": {},
   "source": [
    "# Train Model"
   ]
  },
  {
   "cell_type": "markdown",
   "metadata": {},
   "source": [
    "## Get Data"
   ]
  },
  {
   "cell_type": "code",
   "execution_count": 50,
   "metadata": {
    "ExecuteTime": {
     "end_time": "2020-06-23T12:23:26.765635Z",
     "start_time": "2020-06-23T12:23:26.748096Z"
    }
   },
   "outputs": [],
   "source": [
    "data = load_dataset(file_name= config.TRAIN_FILE)"
   ]
  },
  {
   "cell_type": "code",
   "execution_count": 59,
   "metadata": {
    "ExecuteTime": {
     "end_time": "2020-06-23T12:58:07.847538Z",
     "start_time": "2020-06-23T12:58:07.544053Z"
    }
   },
   "outputs": [],
   "source": [
    "FEATURES = config.FEATURES"
   ]
  },
  {
   "cell_type": "code",
   "execution_count": 60,
   "metadata": {
    "ExecuteTime": {
     "end_time": "2020-06-23T12:58:10.293568Z",
     "start_time": "2020-06-23T12:58:10.268972Z"
    }
   },
   "outputs": [],
   "source": [
    "X_train, X_test, y_train, y_test = train_test_split(data[FEATURES], data[config.TARGET], \n",
    "                                                   test_size=0.1, random_state=config.RANDOM_STATE)"
   ]
  },
  {
   "cell_type": "code",
   "execution_count": 61,
   "metadata": {
    "ExecuteTime": {
     "end_time": "2020-06-23T13:00:37.261158Z",
     "start_time": "2020-06-23T13:00:37.240740Z"
    }
   },
   "outputs": [],
   "source": [
    "y_train = np.log(y_train)\n",
    "y_test = np.log(y_test)"
   ]
  },
  {
   "cell_type": "markdown",
   "metadata": {},
   "source": [
    "## Define Pipeline"
   ]
  },
  {
   "cell_type": "code",
   "execution_count": 89,
   "metadata": {
    "ExecuteTime": {
     "end_time": "2020-06-23T13:27:44.599118Z",
     "start_time": "2020-06-23T13:27:44.568932Z"
    }
   },
   "outputs": [],
   "source": [
    "from model import pipeline"
   ]
  },
  {
   "cell_type": "code",
   "execution_count": null,
   "metadata": {},
   "outputs": [],
   "source": []
  }
 ],
 "metadata": {
  "kernelspec": {
   "display_name": "Python 3",
   "language": "python",
   "name": "python3"
  },
  "language_info": {
   "codemirror_mode": {
    "name": "ipython",
    "version": 3
   },
   "file_extension": ".py",
   "mimetype": "text/x-python",
   "name": "python",
   "nbconvert_exporter": "python",
   "pygments_lexer": "ipython3",
   "version": "3.7.6"
  },
  "toc": {
   "base_numbering": 1,
   "nav_menu": {},
   "number_sections": true,
   "sideBar": true,
   "skip_h1_title": false,
   "title_cell": "Table of Contents",
   "title_sidebar": "Contents",
   "toc_cell": false,
   "toc_position": {},
   "toc_section_display": true,
   "toc_window_display": false
  },
  "varInspector": {
   "cols": {
    "lenName": 16,
    "lenType": 16,
    "lenVar": 40
   },
   "kernels_config": {
    "python": {
     "delete_cmd_postfix": "",
     "delete_cmd_prefix": "del ",
     "library": "var_list.py",
     "varRefreshCmd": "print(var_dic_list())"
    },
    "r": {
     "delete_cmd_postfix": ") ",
     "delete_cmd_prefix": "rm(",
     "library": "var_list.r",
     "varRefreshCmd": "cat(var_dic_list()) "
    }
   },
   "types_to_exclude": [
    "module",
    "function",
    "builtin_function_or_method",
    "instance",
    "_Feature"
   ],
   "window_display": false
  }
 },
 "nbformat": 4,
 "nbformat_minor": 4
}
