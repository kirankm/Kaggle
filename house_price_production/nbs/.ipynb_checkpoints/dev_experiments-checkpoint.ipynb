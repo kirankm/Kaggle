{
 "cells": [
  {
   "cell_type": "markdown",
   "metadata": {},
   "source": [
    "# Import Libraries"
   ]
  },
  {
   "cell_type": "markdown",
   "metadata": {},
   "source": [
    "## setting path to project"
   ]
  },
  {
   "cell_type": "code",
   "execution_count": 21,
   "metadata": {
    "ExecuteTime": {
     "end_time": "2020-05-29T08:12:51.486532Z",
     "start_time": "2020-05-29T08:12:51.457808Z"
    }
   },
   "outputs": [
    {
     "name": "stdout",
     "output_type": "stream",
     "text": [
      "The autoreload extension is already loaded. To reload it, use:\n",
      "  %reload_ext autoreload\n"
     ]
    }
   ],
   "source": [
    "import sys\n",
    "project_path = \"/mnt/data/study_path/kaggle/house_price_production\"\n",
    "\n",
    "if project_path not in sys.path:\n",
    "    sys.path.insert(0, project_path)\n",
    "    \n",
    "\n",
    "%load_ext autoreload\n",
    "%autoreload 2"
   ]
  },
  {
   "cell_type": "markdown",
   "metadata": {},
   "source": [
    "## importing libraries"
   ]
  },
  {
   "cell_type": "code",
   "execution_count": 48,
   "metadata": {
    "ExecuteTime": {
     "end_time": "2020-05-29T08:36:43.468492Z",
     "start_time": "2020-05-29T08:36:43.457847Z"
    }
   },
   "outputs": [],
   "source": [
    "from model.config import config\n",
    "import pandas as pd\n",
    "import sklearn\n",
    "from sklearn.base import BaseEstimator, TransformerMixin\n",
    "\n",
    "from typing import Union\n"
   ]
  },
  {
   "cell_type": "code",
   "execution_count": 44,
   "metadata": {
    "ExecuteTime": {
     "end_time": "2020-05-29T08:33:38.020893Z",
     "start_time": "2020-05-29T08:33:37.988791Z"
    }
   },
   "outputs": [
    {
     "data": {
      "text/plain": [
       "'1.18.4'"
      ]
     },
     "execution_count": 44,
     "metadata": {},
     "output_type": "execute_result"
    }
   ],
   "source": [
    "import numpy as np\n",
    "np.__version__"
   ]
  },
  {
   "cell_type": "markdown",
   "metadata": {},
   "source": [
    "# Load Data"
   ]
  },
  {
   "cell_type": "markdown",
   "metadata": {},
   "source": [
    "## Functions"
   ]
  },
  {
   "cell_type": "code",
   "execution_count": 34,
   "metadata": {
    "ExecuteTime": {
     "end_time": "2020-05-29T08:15:58.033112Z",
     "start_time": "2020-05-29T08:15:58.019440Z"
    }
   },
   "outputs": [],
   "source": [
    "def load_dataset(*, file_name: str) -> pd.DataFrame:\n",
    "    return pd.read_csv(f'{config.DATASET_PATH/file_name}')"
   ]
  },
  {
   "cell_type": "markdown",
   "metadata": {},
   "source": [
    "## loading data"
   ]
  },
  {
   "cell_type": "code",
   "execution_count": 37,
   "metadata": {
    "ExecuteTime": {
     "end_time": "2020-05-29T08:20:37.792905Z",
     "start_time": "2020-05-29T08:20:37.730755Z"
    }
   },
   "outputs": [],
   "source": [
    "train_data = load_dataset(file_name = config.TRAIN_FILE)\n",
    "test_data = load_dataset(file_name = config.TEST_FILE)"
   ]
  },
  {
   "cell_type": "markdown",
   "metadata": {},
   "source": [
    "# Transform Data"
   ]
  },
  {
   "cell_type": "markdown",
   "metadata": {},
   "source": [
    "## Functions"
   ]
  },
  {
   "cell_type": "code",
   "execution_count": 52,
   "metadata": {
    "ExecuteTime": {
     "end_time": "2020-05-29T08:38:38.225485Z",
     "start_time": "2020-05-29T08:38:38.208153Z"
    }
   },
   "outputs": [],
   "source": [
    "## Transform target variable to log scale\n",
    "class LogTransformVar(BaseEstimator, TransformerMixin):\n",
    "    def __init__(self, variables:Union[list, str, None] = None, shift:bool = False) -> None:\n",
    "        if not isinstance(variables, list):\n",
    "            self.variables = [variables]\n",
    "        else:\n",
    "            self.variables = variables\n",
    "        self.shift = shift\n",
    "        \n",
    "    def fit(self, X:pd.DataFrame)->\"LogTransformVar\":\n",
    "        return self\n",
    "    \n",
    "    def transform(self, X:pd.DataFrame)->pd.DataFrame:\n",
    "        X = X.copy()\n",
    "        for variable in self.variables:\n",
    "            min_value = X[variable].min()\n",
    "            if min_value > 0:\n",
    "                pass\n",
    "            elif self.shift:\n",
    "                X[variable] = X[variable] + min_value + 1\n",
    "            else:\n",
    "                raise ValueError(f'Cannot take logarithm for Variable containing 0 or negative values'\n",
    "                                f'found non positive value in Varaible: {variable}')\n",
    "        for variable in self.variables:\n",
    "            X[variable] = np.log(X[variable])\n",
    "        return X"
   ]
  },
  {
   "cell_type": "code",
   "execution_count": 72,
   "metadata": {
    "ExecuteTime": {
     "end_time": "2020-05-29T08:50:51.670474Z",
     "start_time": "2020-05-29T08:50:51.629845Z"
    }
   },
   "outputs": [],
   "source": [
    "class LabelEncodeCatVar(BaseEstimator, TransformerMixin):\n",
    "    def __init__(self, variables:Union[list,str] = None, cat_dict:dict = {}) -> None:\n",
    "        self.cat_dict = cat_dict\n",
    "        if not isinstance(variables, list):\n",
    "            self.variables = [variables]\n",
    "        else:\n",
    "            self.variables = variables\n",
    "    \n",
    "    def fit(self, X:pd.DataFrame) -> \"LabelEncodeCatVar\":\n",
    "        for variable in self.variables:\n",
    "            if variable not in self.cat_dict:\n",
    "                cat_var = X[variable].astype(\"category\").cat.as_ordered()\n",
    "                self.cat_dict[variable] = cat_var.cat.categories\n",
    "        return self\n",
    "    \n",
    "    def transform(self, X:pd.DataFrame) -> pd.DataFrame:\n",
    "        X = X.copy()\n",
    "        for variable in self.variables:\n",
    "            cat_var = X[variable].astype(\"category\").cat.as_ordered()\n",
    "            X[variable] = cat_var.cat.set_categories(self.cat_dict[variable], ordered = True)\n",
    "        return X"
   ]
  },
  {
   "cell_type": "code",
   "execution_count": 73,
   "metadata": {
    "ExecuteTime": {
     "end_time": "2020-05-29T08:50:52.261063Z",
     "start_time": "2020-05-29T08:50:52.228906Z"
    }
   },
   "outputs": [],
   "source": [
    "class Numericalize(BaseEstimator, TransformerMixin):\n",
    "    def __init__(self, variables:Union[str, list] = None) -> None:\n",
    "        if not isinstance(variables, list):\n",
    "            self.variables = [variables]\n",
    "        else:\n",
    "            self.variables = variables\n",
    "    \n",
    "    def fit(self, X:pd.DataFrame) -> \"Numericalize\":\n",
    "        return self\n",
    "    \n",
    "    def transform(self, X:pd.DataFrame) -> pd.DataFrame:\n",
    "        X = X.copy()\n",
    "        for variable in self.variables:\n",
    "            X[variable]  = X[variable].cat.codes + 1\n",
    "        return X"
   ]
  },
  {
   "cell_type": "code",
   "execution_count": null,
   "metadata": {},
   "outputs": [],
   "source": []
  },
  {
   "cell_type": "code",
   "execution_count": null,
   "metadata": {},
   "outputs": [],
   "source": []
  },
  {
   "cell_type": "code",
   "execution_count": null,
   "metadata": {},
   "outputs": [],
   "source": []
  },
  {
   "cell_type": "code",
   "execution_count": null,
   "metadata": {},
   "outputs": [],
   "source": []
  },
  {
   "cell_type": "code",
   "execution_count": null,
   "metadata": {},
   "outputs": [],
   "source": []
  },
  {
   "cell_type": "code",
   "execution_count": 62,
   "metadata": {
    "ExecuteTime": {
     "end_time": "2020-05-29T08:43:50.178401Z",
     "start_time": "2020-05-29T08:43:50.147102Z"
    }
   },
   "outputs": [],
   "source": [
    "ltv = LogTransformVar(shift = 0, variables= config.TARGET)"
   ]
  },
  {
   "cell_type": "code",
   "execution_count": 65,
   "metadata": {
    "ExecuteTime": {
     "end_time": "2020-05-29T08:44:09.307044Z",
     "start_time": "2020-05-29T08:44:09.274428Z"
    }
   },
   "outputs": [
    {
     "data": {
      "text/plain": [
       "0       12.247694\n",
       "1       12.109011\n",
       "2       12.317167\n",
       "3       11.849398\n",
       "4       12.429216\n",
       "          ...    \n",
       "1455    12.072541\n",
       "1456    12.254863\n",
       "1457    12.493130\n",
       "1458    11.864462\n",
       "1459    11.901583\n",
       "Name: SalePrice, Length: 1460, dtype: float64"
      ]
     },
     "execution_count": 65,
     "metadata": {},
     "output_type": "execute_result"
    }
   ],
   "source": [
    "ltv.transform(train_data)[config.TARGET]"
   ]
  },
  {
   "cell_type": "code",
   "execution_count": null,
   "metadata": {},
   "outputs": [],
   "source": []
  }
 ],
 "metadata": {
  "kernelspec": {
   "display_name": "Python 3",
   "language": "python",
   "name": "python3"
  },
  "toc": {
   "base_numbering": 1,
   "nav_menu": {},
   "number_sections": true,
   "sideBar": true,
   "skip_h1_title": false,
   "title_cell": "Table of Contents",
   "title_sidebar": "Contents",
   "toc_cell": false,
   "toc_position": {},
   "toc_section_display": true,
   "toc_window_display": false
  },
  "varInspector": {
   "cols": {
    "lenName": 16,
    "lenType": 16,
    "lenVar": 40
   },
   "kernels_config": {
    "python": {
     "delete_cmd_postfix": "",
     "delete_cmd_prefix": "del ",
     "library": "var_list.py",
     "varRefreshCmd": "print(var_dic_list())"
    },
    "r": {
     "delete_cmd_postfix": ") ",
     "delete_cmd_prefix": "rm(",
     "library": "var_list.r",
     "varRefreshCmd": "cat(var_dic_list()) "
    }
   },
   "types_to_exclude": [
    "module",
    "function",
    "builtin_function_or_method",
    "instance",
    "_Feature"
   ],
   "window_display": false
  }
 },
 "nbformat": 4,
 "nbformat_minor": 4
}
