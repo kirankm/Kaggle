{
 "cells": [
  {
   "cell_type": "markdown",
   "metadata": {},
   "source": [
    "# Import Libraries"
   ]
  },
  {
   "cell_type": "markdown",
   "metadata": {},
   "source": [
    "## setting path to project"
   ]
  },
  {
   "cell_type": "code",
   "execution_count": 1,
   "metadata": {
    "ExecuteTime": {
     "end_time": "2020-06-07T09:56:35.256959Z",
     "start_time": "2020-06-07T09:56:35.180326Z"
    }
   },
   "outputs": [],
   "source": [
    "import sys\n",
    "project_path = \"/mnt/data/study_path/kaggle/house_price_production\"\n",
    "\n",
    "if project_path not in sys.path:\n",
    "    sys.path.insert(0, project_path)\n",
    "    \n",
    "\n",
    "%load_ext autoreload\n",
    "%autoreload 2"
   ]
  },
  {
   "cell_type": "markdown",
   "metadata": {},
   "source": [
    "## importing libraries"
   ]
  },
  {
   "cell_type": "code",
   "execution_count": 2,
   "metadata": {
    "ExecuteTime": {
     "end_time": "2020-06-07T09:56:36.259509Z",
     "start_time": "2020-06-07T09:56:35.567885Z"
    }
   },
   "outputs": [],
   "source": [
    "from model.config import config\n",
    "import pandas as pd\n",
    "import sklearn\n",
    "from sklearn.base import BaseEstimator, TransformerMixin\n",
    "\n",
    "from typing import Union\n"
   ]
  },
  {
   "cell_type": "code",
   "execution_count": 3,
   "metadata": {
    "ExecuteTime": {
     "end_time": "2020-06-07T09:56:36.285814Z",
     "start_time": "2020-06-07T09:56:36.272384Z"
    }
   },
   "outputs": [
    {
     "data": {
      "text/plain": [
       "'1.18.4'"
      ]
     },
     "execution_count": 3,
     "metadata": {},
     "output_type": "execute_result"
    }
   ],
   "source": [
    "import numpy as np\n",
    "np.__version__"
   ]
  },
  {
   "cell_type": "markdown",
   "metadata": {},
   "source": [
    "# Load Data"
   ]
  },
  {
   "cell_type": "markdown",
   "metadata": {},
   "source": [
    "## Functions"
   ]
  },
  {
   "cell_type": "code",
   "execution_count": 4,
   "metadata": {
    "ExecuteTime": {
     "end_time": "2020-06-07T09:56:36.654689Z",
     "start_time": "2020-06-07T09:56:36.635267Z"
    }
   },
   "outputs": [],
   "source": [
    "def load_dataset(*, file_name: str) -> pd.DataFrame:\n",
    "    return pd.read_csv(f'{config.DATASET_PATH/file_name}')"
   ]
  },
  {
   "cell_type": "markdown",
   "metadata": {},
   "source": [
    "## loading data"
   ]
  },
  {
   "cell_type": "code",
   "execution_count": 5,
   "metadata": {
    "ExecuteTime": {
     "end_time": "2020-06-07T09:56:36.776181Z",
     "start_time": "2020-06-07T09:56:36.689223Z"
    }
   },
   "outputs": [],
   "source": [
    "train_data = load_dataset(file_name = config.TRAIN_FILE)\n",
    "test_data = load_dataset(file_name = config.TEST_FILE)"
   ]
  },
  {
   "cell_type": "markdown",
   "metadata": {},
   "source": [
    "# Transform Data"
   ]
  },
  {
   "cell_type": "markdown",
   "metadata": {},
   "source": [
    "## Functions"
   ]
  },
  {
   "cell_type": "code",
   "execution_count": 6,
   "metadata": {
    "ExecuteTime": {
     "end_time": "2020-06-07T09:56:36.828986Z",
     "start_time": "2020-06-07T09:56:36.816300Z"
    }
   },
   "outputs": [],
   "source": [
    "## Transform target variable to log scale\n",
    "class LogTransformVar(BaseEstimator, TransformerMixin):\n",
    "    def __init__(self, variables:Union[list, str, None] = None, shift:bool = False) -> None:\n",
    "        if not isinstance(variables, list):\n",
    "            self.variables = [variables]\n",
    "        else:\n",
    "            self.variables = variables\n",
    "        self.shift = shift\n",
    "        \n",
    "    def fit(self, X:pd.DataFrame)->\"LogTransformVar\":\n",
    "        return self\n",
    "    \n",
    "    def transform(self, X:pd.DataFrame)->pd.DataFrame:\n",
    "        X = X.copy()\n",
    "        for variable in self.variables:\n",
    "            min_value = X[variable].min()\n",
    "            if min_value > 0:\n",
    "                pass\n",
    "            elif self.shift:\n",
    "                X[variable] = X[variable] + min_value + 1\n",
    "            else:\n",
    "                raise ValueError(f'Cannot take logarithm for Variable containing 0 or negative values'\n",
    "                                f'found non positive value in Varaible: {variable}')\n",
    "        for variable in self.variables:\n",
    "            X[variable] = np.log(X[variable])\n",
    "        return X"
   ]
  },
  {
   "cell_type": "code",
   "execution_count": 10,
   "metadata": {
    "ExecuteTime": {
     "end_time": "2020-06-07T09:56:42.414300Z",
     "start_time": "2020-06-07T09:56:42.379890Z"
    }
   },
   "outputs": [],
   "source": [
    "class LabelEncodeCatVar(BaseEstimator, TransformerMixin):\n",
    "    def __init__(self, variables:Union[list,str] = None, cat_dict:dict = {}) -> None:\n",
    "        self.cat_dict = cat_dict\n",
    "        if not isinstance(variables, list):\n",
    "            self.variables = [variables]\n",
    "        else:\n",
    "            self.variables = variables\n",
    "    \n",
    "    def fit(self, X:pd.DataFrame) -> \"LabelEncodeCatVar\":\n",
    "        for variable in self.variables:\n",
    "            if variable not in self.cat_dict:\n",
    "                cat_var = X[variable].astype(\"category\").cat.as_ordered()\n",
    "                self.cat_dict[variable] = cat_var.cat.categories\n",
    "        return self\n",
    "    \n",
    "    def transform(self, X:pd.DataFrame) -> pd.DataFrame:\n",
    "        X = X.copy()\n",
    "        for variable in self.variables:\n",
    "            cat_var = X[variable].astype(\"category\").cat.as_ordered()\n",
    "            X[variable] = cat_var.cat.set_categories(self.cat_dict[variable], ordered = True)\n",
    "        return X"
   ]
  },
  {
   "cell_type": "code",
   "execution_count": 11,
   "metadata": {
    "ExecuteTime": {
     "end_time": "2020-06-07T09:56:42.676137Z",
     "start_time": "2020-06-07T09:56:42.657175Z"
    }
   },
   "outputs": [],
   "source": [
    "class Numericalize(BaseEstimator, TransformerMixin):\n",
    "    def __init__(self, variables:Union[str, list] = None) -> None:\n",
    "        if not isinstance(variables, list):\n",
    "            self.variables = [variables]\n",
    "        else:\n",
    "            self.variables = variables\n",
    "    \n",
    "    def fit(self, X:pd.DataFrame) -> \"Numericalize\":\n",
    "        return self\n",
    "    \n",
    "    def transform(self, X:pd.DataFrame) -> pd.DataFrame:\n",
    "        X = X.copy()\n",
    "        for variable in self.variables:\n",
    "            X[variable]  = X[variable].cat.codes + 1\n",
    "        return X"
   ]
  },
  {
   "cell_type": "code",
   "execution_count": null,
   "metadata": {},
   "outputs": [],
   "source": []
  },
  {
   "cell_type": "markdown",
   "metadata": {},
   "source": [
    "## Test the functions"
   ]
  },
  {
   "cell_type": "code",
   "execution_count": 9,
   "metadata": {
    "ExecuteTime": {
     "end_time": "2020-06-07T09:56:37.112082Z",
     "start_time": "2020-06-07T09:56:37.019884Z"
    }
   },
   "outputs": [
    {
     "ename": "NameError",
     "evalue": "name 'Label_encoder' is not defined",
     "output_type": "error",
     "traceback": [
      "\u001b[0;31m---------------------------------------------------------------------------\u001b[0m",
      "\u001b[0;31mNameError\u001b[0m                                 Traceback (most recent call last)",
      "\u001b[0;32m<ipython-input-9-c79263602017>\u001b[0m in \u001b[0;36m<module>\u001b[0;34m\u001b[0m\n\u001b[0;32m----> 1\u001b[0;31m \u001b[0mLabel_encoder\u001b[0m\u001b[0;34m,\u001b[0m \u001b[0mNumericalize\u001b[0m\u001b[0;34m\u001b[0m\u001b[0;34m\u001b[0m\u001b[0m\n\u001b[0m",
      "\u001b[0;31mNameError\u001b[0m: name 'Label_encoder' is not defined"
     ]
    }
   ],
   "source": []
  },
  {
   "cell_type": "code",
   "execution_count": null,
   "metadata": {},
   "outputs": [],
   "source": []
  },
  {
   "cell_type": "code",
   "execution_count": null,
   "metadata": {},
   "outputs": [],
   "source": []
  },
  {
   "cell_type": "code",
   "execution_count": null,
   "metadata": {},
   "outputs": [],
   "source": []
  },
  {
   "cell_type": "code",
   "execution_count": null,
   "metadata": {},
   "outputs": [],
   "source": []
  },
  {
   "cell_type": "code",
   "execution_count": null,
   "metadata": {},
   "outputs": [],
   "source": []
  },
  {
   "cell_type": "code",
   "execution_count": null,
   "metadata": {},
   "outputs": [],
   "source": []
  },
  {
   "cell_type": "code",
   "execution_count": null,
   "metadata": {},
   "outputs": [],
   "source": []
  },
  {
   "cell_type": "code",
   "execution_count": null,
   "metadata": {},
   "outputs": [],
   "source": []
  },
  {
   "cell_type": "code",
   "execution_count": null,
   "metadata": {},
   "outputs": [],
   "source": []
  },
  {
   "cell_type": "code",
   "execution_count": null,
   "metadata": {},
   "outputs": [],
   "source": []
  },
  {
   "cell_type": "code",
   "execution_count": null,
   "metadata": {},
   "outputs": [],
   "source": []
  },
  {
   "cell_type": "code",
   "execution_count": null,
   "metadata": {},
   "outputs": [],
   "source": []
  }
 ],
 "metadata": {
  "kernelspec": {
   "display_name": "Python 3",
   "language": "python",
   "name": "python3"
  },
  "language_info": {
   "codemirror_mode": {
    "name": "ipython",
    "version": 3
   },
   "file_extension": ".py",
   "mimetype": "text/x-python",
   "name": "python",
   "nbconvert_exporter": "python",
   "pygments_lexer": "ipython3",
   "version": "3.7.6"
  },
  "toc": {
   "base_numbering": 1,
   "nav_menu": {},
   "number_sections": true,
   "sideBar": true,
   "skip_h1_title": false,
   "title_cell": "Table of Contents",
   "title_sidebar": "Contents",
   "toc_cell": false,
   "toc_position": {},
   "toc_section_display": true,
   "toc_window_display": false
  },
  "varInspector": {
   "cols": {
    "lenName": 16,
    "lenType": 16,
    "lenVar": 40
   },
   "kernels_config": {
    "python": {
     "delete_cmd_postfix": "",
     "delete_cmd_prefix": "del ",
     "library": "var_list.py",
     "varRefreshCmd": "print(var_dic_list())"
    },
    "r": {
     "delete_cmd_postfix": ") ",
     "delete_cmd_prefix": "rm(",
     "library": "var_list.r",
     "varRefreshCmd": "cat(var_dic_list()) "
    }
   },
   "types_to_exclude": [
    "module",
    "function",
    "builtin_function_or_method",
    "instance",
    "_Feature"
   ],
   "window_display": false
  }
 },
 "nbformat": 4,
 "nbformat_minor": 4
}
